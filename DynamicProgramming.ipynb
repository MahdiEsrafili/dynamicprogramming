{
 "cells": [
  {
   "cell_type": "code",
   "execution_count": 1,
   "metadata": {},
   "outputs": [],
   "source": [
    "#fibonatchi In DP"
   ]
  },
  {
   "cell_type": "code",
   "execution_count": 4,
   "metadata": {},
   "outputs": [],
   "source": [
    "memo = {}"
   ]
  },
  {
   "cell_type": "code",
   "execution_count": 12,
   "metadata": {},
   "outputs": [],
   "source": [
    "def fib(n):\n",
    "    global memo\n",
    "    if n in memo:\n",
    "        return memo[n]\n",
    "    elif n<=2:\n",
    "        return 1\n",
    "    else:\n",
    "        memo[n] = fib(n-1) + fib(n-2)\n",
    "        return memo[n]\n",
    "    "
   ]
  },
  {
   "cell_type": "code",
   "execution_count": 14,
   "metadata": {},
   "outputs": [
    {
     "data": {
      "text/plain": [
       "1"
      ]
     },
     "execution_count": 14,
     "metadata": {},
     "output_type": "execute_result"
    }
   ],
   "source": [
    "fib(1)"
   ]
  },
  {
   "cell_type": "code",
   "execution_count": 15,
   "metadata": {},
   "outputs": [
    {
     "data": {
      "text/plain": [
       "1"
      ]
     },
     "execution_count": 15,
     "metadata": {},
     "output_type": "execute_result"
    }
   ],
   "source": [
    "fib(2)"
   ]
  },
  {
   "cell_type": "code",
   "execution_count": 16,
   "metadata": {},
   "outputs": [
    {
     "data": {
      "text/plain": [
       "2"
      ]
     },
     "execution_count": 16,
     "metadata": {},
     "output_type": "execute_result"
    }
   ],
   "source": [
    "fib(3)"
   ]
  },
  {
   "cell_type": "code",
   "execution_count": 17,
   "metadata": {},
   "outputs": [
    {
     "data": {
      "text/plain": [
       "{3: 2}"
      ]
     },
     "execution_count": 17,
     "metadata": {},
     "output_type": "execute_result"
    }
   ],
   "source": [
    "memo"
   ]
  },
  {
   "cell_type": "code",
   "execution_count": 18,
   "metadata": {},
   "outputs": [
    {
     "data": {
      "text/plain": [
       "55"
      ]
     },
     "execution_count": 18,
     "metadata": {},
     "output_type": "execute_result"
    }
   ],
   "source": [
    "fib(10)"
   ]
  },
  {
   "cell_type": "code",
   "execution_count": 19,
   "metadata": {},
   "outputs": [
    {
     "data": {
      "text/plain": [
       "{3: 2, 4: 3, 5: 5, 6: 8, 7: 13, 8: 21, 9: 34, 10: 55}"
      ]
     },
     "execution_count": 19,
     "metadata": {},
     "output_type": "execute_result"
    }
   ],
   "source": [
    "memo"
   ]
  },
  {
   "cell_type": "code",
   "execution_count": 20,
   "metadata": {},
   "outputs": [
    {
     "data": {
      "text/plain": [
       "354224848179261915075"
      ]
     },
     "execution_count": 20,
     "metadata": {},
     "output_type": "execute_result"
    }
   ],
   "source": [
    "fib(100)"
   ]
  },
  {
   "cell_type": "code",
   "execution_count": null,
   "metadata": {},
   "outputs": [],
   "source": []
  },
  {
   "cell_type": "code",
   "execution_count": null,
   "metadata": {},
   "outputs": [],
   "source": []
  },
  {
   "cell_type": "code",
   "execution_count": 22,
   "metadata": {},
   "outputs": [],
   "source": [
    "#shortest path"
   ]
  },
  {
   "cell_type": "code",
   "execution_count": 21,
   "metadata": {},
   "outputs": [],
   "source": [
    "ways = {\n",
    "    ('a','b'):1,\n",
    "    ('a','c'):4,\n",
    "    ('a','d'):2,\n",
    "    ('b','c'):3,\n",
    "    ('b','e'):1,\n",
    "    ('c','f'):6,\n",
    "    ('d','e'):5,\n",
    "    ('f','g'):2,\n",
    "    ('e','g'):3,\n",
    "    ('d','f'):3\n",
    "}"
   ]
  },
  {
   "cell_type": "code",
   "execution_count": 51,
   "metadata": {},
   "outputs": [],
   "source": [
    "path = ''\n",
    "cost= 0\n",
    "distances = {}\n",
    "def shortPath_erory(s,f,g): #start finish graph\n",
    "    global path\n",
    "    global cost\n",
    "    #base:\n",
    "    if (s,f) in list(g.keys()):\n",
    "        return cost+g[(s,f)], str((s,f)) + path\n",
    "    #recursion\n",
    "    else:\n",
    "        #find min node connected to f:\n",
    "        nodes = list(g.keys())\n",
    "        connected = None\n",
    "        minn = 100\n",
    "        for n in nodes:\n",
    "            if n[1]==f:\n",
    "                if g[n] < minn:\n",
    "                    connected = n\n",
    "                    minn = g[n]\n",
    "        path = str(connected) + path\n",
    "        cost += minn\n",
    "        return shortPath(s,connected[0],g)\n",
    "        \n",
    "        \n",
    "        "
   ]
  },
  {
   "cell_type": "code",
   "execution_count": 52,
   "metadata": {},
   "outputs": [
    {
     "data": {
      "text/plain": [
       "(12, \"('a', 'c')('c', 'f')('f', 'g')\")"
      ]
     },
     "execution_count": 52,
     "metadata": {},
     "output_type": "execute_result"
    }
   ],
   "source": [
    "shortPath('a','g',ways)"
   ]
  },
  {
   "cell_type": "code",
   "execution_count": 53,
   "metadata": {},
   "outputs": [],
   "source": [
    "#greedy from end\n",
    "def greedyShortPath(s,f,g):\n",
    "    memo = {}\n",
    "    nodes = list(g.keys())\n",
    "    f_nodes = []\n",
    "    for n in nodes:\n",
    "        if n[1]==f:\n",
    "            f_nodes.append(n[0])\n",
    "            memo[n[0]] = g[n]\n",
    "    for n in nodes:\n",
    "        for m in f_nodes:\n",
    "            if n[1] == m:\n",
    "                memo[n[0]] =  \n",
    "        \n",
    "    return memo\n",
    "    \n",
    "    \n",
    "    #recursion:"
   ]
  },
  {
   "cell_type": "code",
   "execution_count": 12,
   "metadata": {},
   "outputs": [],
   "source": [
    "def layers_between(s,f,g):\n",
    "    nodes= list(g.keys())\n",
    "    layers = [[f]]\n",
    "    layer = []\n",
    "    f = list(f)\n",
    "    while s not in f:\n",
    "        layer = []\n",
    "        for n in nodes:\n",
    "            if n[1] in f:\n",
    "                layer.append(n[0])\n",
    "        layer = list(set(layer))\n",
    "        layers.append(layer)\n",
    "        f= layer\n",
    "    layers = layers[:-1]\n",
    "    layers.append([s])\n",
    "    return layers\n",
    "        "
   ]
  },
  {
   "cell_type": "code",
   "execution_count": 13,
   "metadata": {},
   "outputs": [
    {
     "data": {
      "text/plain": [
       "[['g'], ['e', 'f'], ['d', 'b', 'c'], ['a']]"
      ]
     },
     "execution_count": 13,
     "metadata": {},
     "output_type": "execute_result"
    }
   ],
   "source": [
    "layers_between('a','g', ways)"
   ]
  },
  {
   "cell_type": "code",
   "execution_count": 14,
   "metadata": {},
   "outputs": [
    {
     "data": {
      "text/plain": [
       "'f'"
      ]
     },
     "execution_count": 14,
     "metadata": {},
     "output_type": "execute_result"
    }
   ],
   "source": [
    "list('f')[0]"
   ]
  },
  {
   "cell_type": "code",
   "execution_count": 28,
   "metadata": {},
   "outputs": [],
   "source": [
    "def shortPath(s,f,g):\n",
    "    nodes= list(g.keys())\n",
    "    path = ''\n",
    "    #base?:\n",
    "    if s in list(f):\n",
    "        return g[s,f[0]]\n",
    "    #recursion\n",
    "    else:\n",
    "        layers = layers_between(s,f,g)\n",
    "        memo = {}\n",
    "        for layer in range(len(layers)):\n",
    "            sn = ''\n",
    "            for n in layers[layer]:\n",
    "                \n",
    "                if n == f:\n",
    "                    memo[n] = 0\n",
    "                \n",
    "                elif layer>0:\n",
    "                    #find nodes that n is connected to them in previous layer\n",
    "                    cn= []\n",
    "                    #sn = ''\n",
    "                    for m in layers[layer-1]:\n",
    "                        if (n,m) in g:\n",
    "                            cn.append(m)\n",
    "                            if n in memo:\n",
    "                                #memo[n] = min(g[(n,m)]+memo[m],memo[n])\n",
    "                                if g[(n,m)]+memo[m]< memo[n]:\n",
    "                                    memo[n] = min(g[(n,m)]+memo[m],memo[n])\n",
    "                                    sn =n+ m\n",
    "                            else:\n",
    "                                memo[n] = g[(n,m)] + memo[m]\n",
    "                                sn = n+m\n",
    "            path = sn + path\n",
    "    return memo, path\n",
    "                            \n",
    "                                \n",
    "                    \n",
    "        "
   ]
  },
  {
   "cell_type": "code",
   "execution_count": 29,
   "metadata": {},
   "outputs": [
    {
     "data": {
      "text/plain": [
       "({'g': 0, 'e': 3, 'f': 2, 'd': 5, 'b': 4, 'c': 8, 'a': 5}, 'abcffg')"
      ]
     },
     "execution_count": 29,
     "metadata": {},
     "output_type": "execute_result"
    }
   ],
   "source": [
    "shortPath('a', 'g',ways)"
   ]
  },
  {
   "cell_type": "code",
   "execution_count": 7,
   "metadata": {},
   "outputs": [
    {
     "data": {
      "text/plain": [
       "{'g': 0, 'e': 3, 'f': 2, 'd': 8, 'b': 4, 'c': 8, 'a': 5}"
      ]
     },
     "execution_count": 7,
     "metadata": {},
     "output_type": "execute_result"
    }
   ],
   "source": [
    "a[0]"
   ]
  },
  {
   "cell_type": "code",
   "execution_count": null,
   "metadata": {},
   "outputs": [],
   "source": []
  },
  {
   "cell_type": "code",
   "execution_count": null,
   "metadata": {},
   "outputs": [],
   "source": []
  },
  {
   "cell_type": "code",
   "execution_count": null,
   "metadata": {},
   "outputs": [],
   "source": []
  },
  {
   "cell_type": "code",
   "execution_count": 30,
   "metadata": {},
   "outputs": [],
   "source": [
    "#edit distance"
   ]
  },
  {
   "cell_type": "code",
   "execution_count": 47,
   "metadata": {},
   "outputs": [],
   "source": [
    "def naive_edit_distance(s1,s2,cost = 0):\n",
    "    if len(s1)==0:\n",
    "        return cost + len(s2)\n",
    "    elif len(s2) ==0:\n",
    "        return cost + len(s1)\n",
    "    else:\n",
    "        if s1[0]==s2[0]:\n",
    "            cost +=0\n",
    "            return edit_distance(s1[1:], s2[1:],cost)\n",
    "        else:\n",
    "            return min(\n",
    "                edit_distance(s1[1:], s2[1:], cost+1),\n",
    "                edit_distance(s1[1:], s2[0:], cost+1),\n",
    "                edit_distance(s1[0:], s2[1:], cost+1)\n",
    "\n",
    "            )"
   ]
  },
  {
   "cell_type": "code",
   "execution_count": 48,
   "metadata": {},
   "outputs": [
    {
     "data": {
      "text/plain": [
       "8"
      ]
     },
     "execution_count": 48,
     "metadata": {},
     "output_type": "execute_result"
    }
   ],
   "source": [
    "naive_edit_distance('omidiwwww','amirssssqq')"
   ]
  },
  {
   "cell_type": "code",
   "execution_count": 2,
   "metadata": {},
   "outputs": [],
   "source": [
    "import numpy as np"
   ]
  },
  {
   "cell_type": "code",
   "execution_count": 8,
   "metadata": {},
   "outputs": [],
   "source": [
    "def dp_edit_disntance(s1, s2):\n",
    "    s1 = ' '+s1\n",
    "    s2 = ' '+s2\n",
    "    m = len(s1)\n",
    "    n = len(s2)\n",
    "    matrix = np.zeros([m,n])\n",
    "    matrix[0,0] = 0\n",
    "    matrix[0,:] = range(n)\n",
    "    matrix[:,0] = range(m)\n",
    "    for i in range(1,m):\n",
    "        for j in range(1,n):\n",
    "            if s1[i]==s2[j]:\n",
    "                matrix[i,j] = matrix[i-1,j-1] \n",
    "            else:\n",
    "                matrix[i,j] = min(matrix[i-1,j], matrix[i,j-1], matrix[i-1,j-1]) + 1\n",
    "    return matrix\n",
    "                \n",
    "            "
   ]
  },
  {
   "cell_type": "code",
   "execution_count": 9,
   "metadata": {},
   "outputs": [
    {
     "data": {
      "text/plain": [
       "array([[0., 1., 2., 3.],\n",
       "       [1., 0., 1., 2.],\n",
       "       [2., 1., 1., 2.],\n",
       "       [3., 2., 2., 1.]])"
      ]
     },
     "execution_count": 9,
     "metadata": {},
     "output_type": "execute_result"
    }
   ],
   "source": [
    "dp_edit_disntance('ali', 'adi')"
   ]
  },
  {
   "cell_type": "code",
   "execution_count": 5,
   "metadata": {},
   "outputs": [
    {
     "data": {
      "text/plain": [
       "array([[0., 1., 2., 3., 4.],\n",
       "       [0., 0., 0., 0., 0.]])"
      ]
     },
     "execution_count": 5,
     "metadata": {},
     "output_type": "execute_result"
    }
   ],
   "source": [
    "matrix"
   ]
  },
  {
   "cell_type": "code",
   "execution_count": null,
   "metadata": {},
   "outputs": [],
   "source": []
  }
 ],
 "metadata": {
  "kernelspec": {
   "display_name": "Python 3",
   "language": "python",
   "name": "python3"
  },
  "language_info": {
   "codemirror_mode": {
    "name": "ipython",
    "version": 3
   },
   "file_extension": ".py",
   "mimetype": "text/x-python",
   "name": "python",
   "nbconvert_exporter": "python",
   "pygments_lexer": "ipython3",
   "version": "3.7.3"
  }
 },
 "nbformat": 4,
 "nbformat_minor": 2
}
